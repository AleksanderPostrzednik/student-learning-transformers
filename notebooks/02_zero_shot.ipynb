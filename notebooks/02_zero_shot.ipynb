{
 "cells": [
  {
   "cell_type": "markdown",
   "metadata": {},
   "source": [
    "# Zero-shot Classification"
   ]
  },
  {
   "cell_type": "code",
   "execution_count": 2,
   "metadata": {},
   "outputs": [
    {
     "name": "stderr",
     "output_type": "stream",
     "text": [
      "c:\\Users\\antar\\anaconda3\\envs\\learn-tx\\lib\\site-packages\\huggingface_hub\\file_download.py:943: FutureWarning: `resume_download` is deprecated and will be removed in version 1.0.0. Downloads always resume when possible. If you want to force a new download, use `force_download=True`.\n",
      "  warnings.warn(\n"
     ]
    },
    {
     "data": {
      "text/plain": [
       "[{'sequence': 'dr goldberg offers everything i look for in a general practitioner hes nice and easy to talk to without being patronizing hes always on time in seeing his patients hes affiliated with a topnotch hospital nyu which my parents have explained to me is very important in case something happens and you need surgery and you can get referrals to see specialists without having to see him first really what more do you need im sitting here trying to think of any complaints i have about him but im really drawing a blank',\n",
       "  'labels': ['service', 'ambiance', 'location', 'food', 'price'],\n",
       "  'scores': [0.9266963601112366,\n",
       "   0.04241795837879181,\n",
       "   0.018579740077257156,\n",
       "   0.008182374760508537,\n",
       "   0.004123670049011707]},\n",
       " {'sequence': 'unfortunately the frustration of being dr goldbergs patient is a repeat of the experience ive had with so many other doctors in nyc good doctor terrible staff it seems that his staff simply never answers the phone it usually takes 2 hours of repeated calling to get an answer who has time for that or wants to deal with it i have run into this problem with many other doctors and i just dont get it you have office workers you have patients with medical needs why isnt anyone answering the phone its incomprehensible and not work the aggravation its with regret that i feel that i have to give dr goldberg 2 stars',\n",
       "  'labels': ['service', 'location', 'price', 'ambiance', 'food'],\n",
       "  'scores': [0.8230468034744263,\n",
       "   0.06944404542446136,\n",
       "   0.05009644478559494,\n",
       "   0.04724392667412758,\n",
       "   0.010168825276196003]},\n",
       " {'sequence': 'been going to dr goldberg for over 10 years i think i was one of his 1st patients when he started at mhmg hes been great over the years and is really all about the big picture it is because of him not my now former gyn dr markoff that i found out i have fibroids he explores all options with you and is very patient and understanding he doesnt judge and asks all the right questions very thorough and wants to be kept in the loop on every aspect of your medical health and your life',\n",
       "  'labels': ['service', 'ambiance', 'location', 'price', 'food'],\n",
       "  'scores': [0.9252985119819641,\n",
       "   0.033080898225307465,\n",
       "   0.021340828388929367,\n",
       "   0.011868604458868504,\n",
       "   0.008411196991801262]},\n",
       " {'sequence': 'got a letter in the mail last week that said dr goldberg is moving to arizona to take a new position there in june he will be missed very much nni think finding a new doctor in nyc that you actually like might almost be as awful as trying to find a date',\n",
       "  'labels': ['location', 'service', 'ambiance', 'price', 'food'],\n",
       "  'scores': [0.46533387899398804,\n",
       "   0.2695516347885132,\n",
       "   0.11875910311937332,\n",
       "   0.11629828065633774,\n",
       "   0.03005708009004593]},\n",
       " {'sequence': 'i dont know what dr goldberg was like before moving to arizona but let me tell you stay away from this doctor and this office i was going to dr johnson before he left and goldberg took over when johnson left he is not a caring doctor he is only interested in the copay and having you come in for medication refills every month he will not give refills and could less about patientss financial situations trying to get your 90 days mail away pharmacy prescriptions through this guy is a joke and to make matters even worse his office staff is incompetent 90 of the time when you call the office theyll put you through to a voice mail that no one ever answers or returns your call both my adult children and husband have decided to leave this practice after experiencing such frustration the entire office has an attitude like they are doing you a favor give me a break stay away from this doc and the practice you deserve better and they will not be there when you really need them i have never felt compelled to write a bad review about anyone until i met this pathetic excuse for a doctor who is all about the money',\n",
       "  'labels': ['service', 'location', 'ambiance', 'price', 'food'],\n",
       "  'scores': [0.414763867855072,\n",
       "   0.2970051169395447,\n",
       "   0.1432802975177765,\n",
       "   0.12715017795562744,\n",
       "   0.017800550907850266]},\n",
       " {'sequence': 'top notch doctor in a top notch practice cant say i am surprised when i was referred to him by another doctor who i think is wonderful and because he went to one of the best medical schools in the country nit is really easy to get an appointment there is minimal wait to be seen and his bedside manner is great',\n",
       "  'labels': ['service', 'ambiance', 'location', 'price', 'food'],\n",
       "  'scores': [0.8578251600265503,\n",
       "   0.07398384064435959,\n",
       "   0.046040769666433334,\n",
       "   0.013164919801056385,\n",
       "   0.008985289372503757]},\n",
       " {'sequence': 'dr eric goldberg is a fantastic doctor who has correctly diagnosed every issue that my wife and i have had unlike many of my past doctors dr goldberg is very accessible and we have been able to schedule appointments with him and his staff very quickly we are happy to have him in the neighborhood and look forward to being his patients for many years to come',\n",
       "  'labels': ['service', 'location', 'ambiance', 'price', 'food'],\n",
       "  'scores': [0.6406684517860413,\n",
       "   0.3324754536151886,\n",
       "   0.016344845294952393,\n",
       "   0.007608906365931034,\n",
       "   0.0029023478273302317]},\n",
       " {'sequence': 'im writing this review to give you a heads up before you see this doctor the office staff and administration are very unprofessional i left a message with multiple people regarding my bill and no one ever called me back i had to hound them to get an answer about my bill nnsecond and most important make sure your insurance is going to cover dr goldbergs visits and blood work he recommended to me that i get a physical and he knew i was a student because i told him i got the physical done later i found out my health insurance doesnt pay for preventative visits i received an 80000 bill for the blood work i cant pay for my bill because im a student and dont have any cash flow at this current time i cant believe the doctor wouldnt give me a heads up to make sure my insurance would cover work that wasnt necessary and was strictly preventative the office cant do anything to help me cover the bill in addition the office staff said the onus is on me to make sure my insurance covers visits frustrating situation',\n",
       "  'labels': ['service', 'price', 'ambiance', 'location', 'food'],\n",
       "  'scores': [0.6255691647529602,\n",
       "   0.12648989260196686,\n",
       "   0.12400882691144943,\n",
       "   0.1130308210849762,\n",
       "   0.010901275090873241]},\n",
       " {'sequence': 'wing sauce is like water pretty much a lot of butter and some hot sauce franks red hot maybe the whole wings are good size and crispy but for 1 a wing the sauce could be better the hot and extra hot are about the same flavorheat the fish sandwich is good and is a large portion sides are decent',\n",
       "  'labels': ['food', 'ambiance', 'service', 'location', 'price'],\n",
       "  'scores': [0.938358724117279,\n",
       "   0.022214574739336967,\n",
       "   0.019658192992210388,\n",
       "   0.010409023612737656,\n",
       "   0.009359489195048809]},\n",
       " {'sequence': 'decent range somewhat close to the city the mats are pretty solid however the grass range needs to be tended too its like hitting out of us open type roughnot very amenable to practicing which kind of defeats the purpose of going to a golf rangestill gets 3 stars because the range is lit up at night which is excellent for those of us who are addicted to this amazing game but are somewhat short on time having a job kinda sucks sometimes no',\n",
       "  'labels': ['location', 'ambiance', 'service', 'price', 'food'],\n",
       "  'scores': [0.48472458124160767,\n",
       "   0.31330499053001404,\n",
       "   0.1800863891839981,\n",
       "   0.012703428976237774,\n",
       "   0.009180613793432713]}]"
      ]
     },
     "execution_count": 2,
     "metadata": {},
     "output_type": "execute_result"
    }
   ],
   "source": [
    "import sys\n",
    "import os\n",
    "sys.path.append(os.path.abspath(os.path.join('..')))\n",
    "\n",
    "import pandas as pd\n",
    "from transformers import pipeline\n",
    "from src.utils import clean_text\n",
    "\n",
    "# Load a small sample of the Yelp reviews dataset\n",
    "df = pd.read_csv('../data/yelp_reviews.csv', on_bad_lines='skip', nrows=10)\n",
    "\n",
    "# Clean the review text\n",
    "df['text_cleaned'] = df['text'].apply(clean_text)\n",
    "\n",
    "# Initialize the zero-shot classification pipeline\n",
    "classifier = pipeline(\"zero-shot-classification\", model=\"facebook/bart-large-mnli\")\n",
    "\n",
    "# Define candidate labels relevant to restaurant reviews\n",
    "candidate_labels = ['food', 'service', 'ambiance', 'price', 'location']\n",
    "\n",
    "# Classify the reviews\n",
    "results = classifier(df['text_cleaned'].tolist(), candidate_labels=candidate_labels)\n",
    "results"
   ]
  }
 ],
 "metadata": {
  "kernelspec": {
   "display_name": "learn-tx",
   "language": "python",
   "name": "python3"
  },
  "language_info": {
   "codemirror_mode": {
    "name": "ipython",
    "version": 3
   },
   "file_extension": ".py",
   "mimetype": "text/x-python",
   "name": "python",
   "nbconvert_exporter": "python",
   "pygments_lexer": "ipython3",
   "version": "3.10.18"
  }
 },
 "nbformat": 4,
 "nbformat_minor": 4
}
