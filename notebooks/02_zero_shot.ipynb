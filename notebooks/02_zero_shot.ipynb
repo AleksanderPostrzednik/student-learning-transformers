{
 "cells": [
  {
   "cell_type": "markdown",
   "metadata": {},
   "source": [
    "# Zero-shot Classification"
   ]
  },
  {
   "cell_type": "code",
   "execution_count": 1,
   "metadata": {},
   "outputs": [
    {
     "name": "stderr",
     "output_type": "stream",
     "text": [
      "c:\\Users\\antar\\anaconda3\\envs\\learn-tx\\lib\\site-packages\\tqdm\\auto.py:21: TqdmWarning: IProgress not found. Please update jupyter and ipywidgets. See https://ipywidgets.readthedocs.io/en/stable/user_install.html\n",
      "  from .autonotebook import tqdm as notebook_tqdm\n",
      "c:\\Users\\antar\\anaconda3\\envs\\learn-tx\\lib\\site-packages\\huggingface_hub\\file_download.py:943: FutureWarning: `resume_download` is deprecated and will be removed in version 1.0.0. Downloads always resume when possible. If you want to force a new download, use `force_download=True`.\n",
      "  warnings.warn(\n"
     ]
    },
    {
     "data": {
      "text/plain": [
       "[{'sequence': 'Kinesthetic',\n",
       "  'labels': ['kinesthetic', 'visual', 'reading/writing', 'auditory'],\n",
       "  'scores': [0.887866199016571,\n",
       "   0.08441426604986191,\n",
       "   0.019578753039240837,\n",
       "   0.008140751160681248]},\n",
       " {'sequence': 'Reading/Writing',\n",
       "  'labels': ['reading/writing', 'kinesthetic', 'visual', 'auditory'],\n",
       "  'scores': [0.786275327205658,\n",
       "   0.2070883959531784,\n",
       "   0.0035439147613942623,\n",
       "   0.0030923294834792614]},\n",
       " {'sequence': 'Kinesthetic',\n",
       "  'labels': ['kinesthetic', 'visual', 'reading/writing', 'auditory'],\n",
       "  'scores': [0.887866199016571,\n",
       "   0.08441426604986191,\n",
       "   0.019578753039240837,\n",
       "   0.008140751160681248]},\n",
       " {'sequence': 'Auditory',\n",
       "  'labels': ['auditory', 'kinesthetic', 'visual', 'reading/writing'],\n",
       "  'scores': [0.9619610905647278,\n",
       "   0.026667673140764236,\n",
       "   0.005812515038996935,\n",
       "   0.005558802280575037]},\n",
       " {'sequence': 'Auditory',\n",
       "  'labels': ['auditory', 'kinesthetic', 'visual', 'reading/writing'],\n",
       "  'scores': [0.9619610905647278,\n",
       "   0.026667673140764236,\n",
       "   0.005812515038996935,\n",
       "   0.005558802280575037]},\n",
       " {'sequence': 'Kinesthetic',\n",
       "  'labels': ['kinesthetic', 'visual', 'reading/writing', 'auditory'],\n",
       "  'scores': [0.887866199016571,\n",
       "   0.08441426604986191,\n",
       "   0.019578753039240837,\n",
       "   0.008140751160681248]},\n",
       " {'sequence': 'Reading/Writing',\n",
       "  'labels': ['reading/writing', 'kinesthetic', 'visual', 'auditory'],\n",
       "  'scores': [0.786275327205658,\n",
       "   0.2070883959531784,\n",
       "   0.0035439147613942623,\n",
       "   0.0030923294834792614]},\n",
       " {'sequence': 'Reading/Writing',\n",
       "  'labels': ['reading/writing', 'kinesthetic', 'visual', 'auditory'],\n",
       "  'scores': [0.786275327205658,\n",
       "   0.2070883959531784,\n",
       "   0.0035439147613942623,\n",
       "   0.0030923294834792614]},\n",
       " {'sequence': 'Visual',\n",
       "  'labels': ['visual', 'kinesthetic', 'reading/writing', 'auditory'],\n",
       "  'scores': [0.9292137622833252,\n",
       "   0.0625799149274826,\n",
       "   0.004795152228325605,\n",
       "   0.003411127021536231]},\n",
       " {'sequence': 'Auditory',\n",
       "  'labels': ['auditory', 'kinesthetic', 'visual', 'reading/writing'],\n",
       "  'scores': [0.9619610905647278,\n",
       "   0.026667673140764236,\n",
       "   0.005812515038996935,\n",
       "   0.005558802280575037]}]"
      ]
     },
     "execution_count": 1,
     "metadata": {},
     "output_type": "execute_result"
    }
   ],
   "source": [
    "import sys\n",
    "import os\n",
    "sys.path.append(os.path.abspath(os.path.join('..')))\n",
    "\n",
    "from transformers import pipeline\n",
    "from src.utils import load_data\n",
    "\n",
    "df = load_data('../data/student_performance_large_dataset.csv').head(10)\n",
    "classifier = pipeline(\"zero-shot-classification\", model=\"facebook/bart-large-mnli\")\n",
    "labels = [\"visual\", \"auditory\", \"reading/writing\", \"kinesthetic\"]\n",
    "\n",
    "# NOTE: The original 'method_description' column is not in the new dataset.\n",
    "# Using 'Preferred_Learning_Style' as a substitute to demonstrate the model.\n",
    "classifier(df[\"Preferred_Learning_Style\"].tolist(), candidate_labels=labels)"
   ]
  }
 ],
 "metadata": {
  "kernelspec": {
   "display_name": "learn-tx",
   "language": "python",
   "name": "python3"
  },
  "language_info": {
   "codemirror_mode": {
    "name": "ipython",
    "version": 3
   },
   "file_extension": ".py",
   "mimetype": "text/x-python",
   "name": "python",
   "nbconvert_exporter": "python",
   "pygments_lexer": "ipython3",
   "version": "3.10.18"
  }
 },
 "nbformat": 4,
 "nbformat_minor": 4
}
