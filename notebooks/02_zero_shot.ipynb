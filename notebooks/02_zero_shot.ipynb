{
 "cells": [
  {
   "cell_type": "markdown",
   "id": "753d1c86",
   "metadata": {},
   "source": [
    "# Zero-shot Classification"
   ]
  },
  {
   "cell_type": "code",
   "execution_count": null,
   "id": "2fa5dd12",
   "metadata": {},
   "outputs": [],
   "source": [
    "from transformers import pipeline\n",
    "from src.utils import load_data\n",
    "\n",
    "df = load_data(\"../data/student-math-learning.csv\").head(10)\n",
    "classifier = pipeline(\"zero-shot-classification\", model=\"facebook/bart-large-mnli\")\n",
    "labels = [\"visual\", \"auditory\", \"reading/writing\", \"kinesthetic\"]\n",
    "classifier(df[\"method_description\"].tolist(), candidate_labels=labels)"
   ]
  }
 ],
 "metadata": {},
 "nbformat": 4,
 "nbformat_minor": 5
}
