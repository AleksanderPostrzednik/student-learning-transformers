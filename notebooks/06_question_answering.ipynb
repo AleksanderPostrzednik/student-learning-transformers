{
 "cells": [
  {
   "cell_type": "markdown",
   "metadata": {},
   "source": ["# Question Answering"]
  },
  {
   "cell_type": "code",
   "execution_count": null,
   "metadata": {},
   "outputs": [],
   "source": [
    "from transformers import pipeline\n",
    "context = open('../texts/pomodoro.txt').read()\n",
    "qa = pipeline('question-answering', model='distilbert-base-cased-distilled-squad')\n",
    "q1 = 'Who developed the Pomodoro Technique?'\n",
    "print(qa({'question': q1, 'context': context})['answer'])\n",
    "q2 = 'How long is one Pomodoro session?'\n",
    "print(qa({'question': q2, 'context': context})['answer'])"
   ]
  },
  {
   "cell_type": "markdown",
   "metadata": {},
   "source": ["Model odczytuje odpowiedzi prosto z tekstu."]
  }
 ],
 "metadata": {
  "kernelspec": {
   "display_name": "learn-tx",
   "language": "python",
   "name": "python3"
  },
  "language_info": {
   "codemirror_mode": {
    "name": "ipython",
    "version": 3
   },
   "file_extension": ".py",
   "mimetype": "text/x-python",
   "name": "python",
   "nbconvert_exporter": "python",
   "pygments_lexer": "ipython3",
   "version": "3.10.18"
  }
 },
 "nbformat": 4,
 "nbformat_minor": 4
}
