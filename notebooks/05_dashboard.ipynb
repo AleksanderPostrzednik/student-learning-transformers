{
 "cells": [
  {
   "cell_type": "markdown",
   "id": "b35d1af9",
   "metadata": {},
   "source": [
    "# Interactive Dashboard"
   ]
  },
  {
   "cell_type": "code",
   "execution_count": null,
   "id": "9c806e86",
   "metadata": {},
   "outputs": [],
   "source": [
    "import gradio as gr\n",
    "from transformers import pipeline\n",
    "from src.utils import clean_text\n",
    "\n",
    "zero = pipeline(\"zero-shot-classification\", model=\"facebook/bart-large-mnli\")\n",
    "sent = pipeline(\"sentiment-analysis\", model=\"cardiffnlp/twitter-roberta-base-sentiment\")\n",
    "labels = [\"visual\", \"auditory\", \"reading/writing\", \"kinesthetic\"]\n",
    "\n",
    "def classify(text):\n",
    "    text = clean_text(text)\n",
    "    style = zero(text, candidate_labels=labels)[\"labels\"][0]\n",
    "    sentiment = sent(text)[0][\"label\"]\n",
    "    return style, sentiment\n",
    "\n",
    "iface = gr.Interface(fn=classify, inputs=gr.Textbox(lines=2), outputs=[\"text\", \"text\"], title=\"Study Method Classifier\")\n",
    "iface.launch()"
   ]
  }
 ],
 "metadata": {},
 "nbformat": 4,
 "nbformat_minor": 5
}
