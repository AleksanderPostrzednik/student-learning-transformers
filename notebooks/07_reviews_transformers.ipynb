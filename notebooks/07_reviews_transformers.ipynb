{
 "cells": [
  {
   "cell_type": "markdown",
   "metadata": {},
   "source": [
    "# Course and Peer Reviews: Transformers Demo\n",
    "This notebook loads `course_reviews.csv` and `peer_reviews.csv`, performs basic preprocessing and demonstrates summarization and sentiment analysis using Hugging Face transformers."
   ]
  },
  {
   "cell_type": "code",
   "execution_count": 1,
   "metadata": {},
   "outputs": [],
   "source": [
    "import sys, subprocess\n",
    "import pandas as pd\n",
    "from pathlib import Path\n",
    "from transformers import pipeline\n",
    "sys.path.append('..')\n",
    "from src.utils import clean_text, plot_wordcloud\n",
    "import matplotlib.pyplot as plt\n",
    "try:\n",
    "    import nltk\n",
    "    from nltk.corpus import stopwords\n",
    "    from nltk.tokenize import word_tokenize\n",
    "except ImportError:\n",
    "    subprocess.check_call([sys.executable, '-m', 'pip', 'install', 'nltk', 'wordcloud'])\n",
    "    import nltk\n",
    "    from nltk.corpus import stopwords\n",
    "    from nltk.tokenize import word_tokenize\n",
    "nltk.download('punkt', quiet=True)\n",
    "nltk.download('stopwords', quiet=True)"
   ]
  },
  {
   "cell_type": "code",
   "execution_count": null,
   "metadata": {},
   "outputs": [],
   "source": [
    "data_dir = Path('data')\n",
    "course_path = next(data_dir.glob('course_reviews.csv'))\n",
    "peer_path = next(data_dir.glob('peer_reviews.csv'))\n",
    "course_df = pd.read_csv(course_path)\n",
    "peer_df = pd.read_csv(peer_path)\n",
    "print('Course reviews:', course_df.shape)\n",
    "print('Peer reviews:', peer_df.shape)\n",
    "course_df.head()"
   ]
  },
  {
   "cell_type": "code",
   "execution_count": null,
   "metadata": {},
   "outputs": [],
   "source": [
    "print(course_df.columns)\n",
    "print(peer_df.columns)\n",
    "peer_df.head()"
   ]
  },
  {
   "cell_type": "code",
   "execution_count": null,
   "metadata": {},
   "outputs": [],
   "source": [
    "def preprocess(text):\n",
    "    text = clean_text(text)\n",
    "    tokens = word_tokenize(text)\n",
    "    sw = set(stopwords.words('english'))\n",
    "    tokens = [t for t in tokens if t not in sw]\n",
    "    return ' '.join(tokens)\n",
    "\n",
    "course_df['clean_text'] = course_df['review_text'].apply(preprocess)\n",
    "peer_df['clean_text'] = peer_df['comment'].apply(preprocess)"
   ]
  },
  {
   "cell_type": "code",
   "execution_count": null,
   "metadata": {},
   "outputs": [],
   "source": [
    "# Word cloud for quick overview\n",
    "text_for_wc = ' '.join(course_df['clean_text'].head(200))\n",
    "plot_wordcloud(text_for_wc, stopwords.words('english'))"
   ]
  },
  {
   "cell_type": "code",
   "execution_count": null,
   "metadata": {},
   "outputs": [],
   "source": [
    "course_df['rating'].hist()\n",
    "plt.title('Course review ratings')\n",
    "plt.show()\n",
    "\n",
    "peer_df['score'].hist()\n",
    "plt.title('Peer review scores')\n",
    "plt.show()"
   ]
  },
  {
   "cell_type": "code",
   "execution_count": null,
   "metadata": {},
   "outputs": [],
   "source": [
    "sentiment = pipeline('sentiment-analysis')\n",
    "print(sentiment(course_df['clean_text'].iloc[0]))\n",
    "print(sentiment(peer_df['clean_text'].iloc[0]))"
   ]
  },
  {
   "cell_type": "code",
   "execution_count": null,
   "metadata": {},
   "outputs": [],
   "source": [
    "summarizer = pipeline('summarization', min_length=30, max_length=150)\n",
    "print('Summary course:', summarizer(course_df['clean_text'].iloc[0])[0]['summary_text'])\n",
    "print('Summary peer:', summarizer(peer_df['clean_text'].iloc[0])[0]['summary_text'])"
   ]
  },
  {
   "cell_type": "code",
   "execution_count": null,
   "metadata": {},
   "outputs": [],
   "source": [
    "qa = pipeline('question-answering')\n",
    "context = course_df['clean_text'].iloc[0]\n",
    "question = 'What is this review about?'\n",
    "print(qa(question=question, context=context)['answer'])"
   ]
  }
 ],
 "metadata": {
  "kernelspec": {
   "display_name": "learn-tx",
   "language": "python",
   "name": "python3"
  },
  "language_info": {
   "codemirror_mode": {
    "name": "ipython",
    "version": 3
   },
   "file_extension": ".py",
   "mimetype": "text/x-python",
   "name": "python",
   "nbconvert_exporter": "python",
   "pygments_lexer": "ipython3",
   "version": "3.10.18"
  }
 },
 "nbformat": 4,
 "nbformat_minor": 4
}
