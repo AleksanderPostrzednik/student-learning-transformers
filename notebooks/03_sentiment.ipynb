{
 "cells": [
  {
   "cell_type": "markdown",
   "id": "a8aa9896",
   "metadata": {},
   "source": [
    "# Sentiment Analysis"
   ]
  },
  {
   "cell_type": "code",
   "execution_count": null,
   "id": "22dce2ac",
   "metadata": {},
   "outputs": [],
   "source": [
    "from transformers import pipeline\n",
    "from src.utils import load_data\n",
    "\n",
    "df = load_data(\"../data/student-math-learning.csv\").head(20)\n",
    "classifier = pipeline(\"sentiment-analysis\", model=\"cardiffnlp/twitter-roberta-base-sentiment\")\n",
    "results = classifier(df[\"method_description\"].tolist())\n",
    "results[:5]"
   ]
  }
 ],
 "metadata": {},
 "nbformat": 4,
 "nbformat_minor": 5
}
